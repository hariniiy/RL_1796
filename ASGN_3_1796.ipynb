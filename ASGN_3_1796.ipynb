{
  "nbformat": 4,
  "nbformat_minor": 0,
  "metadata": {
    "colab": {
      "provenance": [],
      "include_colab_link": true
    },
    "kernelspec": {
      "name": "python3",
      "display_name": "Python 3"
    },
    "language_info": {
      "name": "python"
    }
  },
  "cells": [
    {
      "cell_type": "markdown",
      "metadata": {
        "id": "view-in-github",
        "colab_type": "text"
      },
      "source": [
        "<a href=\"https://colab.research.google.com/github/hariniiy/RL_1796/blob/main/ASGN_3_1796.ipynb\" target=\"_parent\"><img src=\"https://colab.research.google.com/assets/colab-badge.svg\" alt=\"Open In Colab\"/></a>"
      ]
    },
    {
      "cell_type": "code",
      "execution_count": null,
      "metadata": {
        "colab": {
          "base_uri": "https://localhost:8080/"
        },
        "id": "1ygAqFYNS7e4",
        "outputId": "ea690f23-1c78-41b8-a7ef-5efcb59ee171"
      },
      "outputs": [
        {
          "output_type": "stream",
          "name": "stdout",
          "text": [
            "TD(0) Value Function (sample states):\n",
            "{0: 0.009, 1: 0.006, 5: 0.0, 4: 0.012, 8: 0.023, 12: 0.0, 2: 0.012, 3: 0.002, 7: 0.0, 6: 0.021}\n",
            "\n",
            "SARSA Learned Policy (sample states):\n",
            "State: 0, Best Action: 0\n",
            "State: 4, Best Action: 0\n",
            "State: 8, Best Action: 3\n",
            "State: 12, Best Action: 0\n",
            "State: 1, Best Action: 3\n",
            "State: 5, Best Action: 0\n",
            "State: 9, Best Action: 1\n",
            "State: 2, Best Action: 0\n",
            "State: 6, Best Action: 0\n",
            "State: 10, Best Action: 0\n"
          ]
        }
      ],
      "source": [
        "import gymnasium as gym\n",
        "import numpy as np\n",
        "from collections import defaultdict\n",
        "\n",
        "# ---------------------------\n",
        "# TD(0) Policy Evaluation\n",
        "# ---------------------------\n",
        "def td0_policy_evaluation(policy, env, num_episodes=5000, alpha=0.1, gamma=0.99):\n",
        "    \"\"\"\n",
        "    Evaluate a given policy using TD(0).\n",
        "    \"\"\"\n",
        "    V = defaultdict(float)\n",
        "\n",
        "    for _ in range(num_episodes):\n",
        "        state, _ = env.reset()\n",
        "        done = False\n",
        "\n",
        "        while not done:\n",
        "            action = policy(state)\n",
        "            next_state, reward, terminated, truncated, _ = env.step(action)\n",
        "            V[state] = V[state] + alpha * (reward + gamma * V[next_state] - V[state])\n",
        "            state = next_state\n",
        "            done = terminated or truncated\n",
        "\n",
        "    return V\n",
        "\n",
        "# ---------------------------\n",
        "# SARSA Control (On-policy TD)\n",
        "# ---------------------------\n",
        "def sarsa_control(env, num_episodes=5000, alpha=0.1, gamma=0.99, epsilon=0.1):\n",
        "    \"\"\"\n",
        "    SARSA algorithm for learning an epsilon-greedy policy.\n",
        "    \"\"\"\n",
        "    Q = defaultdict(lambda: np.zeros(env.action_space.n))\n",
        "\n",
        "    def epsilon_greedy(state):\n",
        "        if np.random.rand() < epsilon:\n",
        "            return np.random.choice(env.action_space.n)\n",
        "        else:\n",
        "            return np.argmax(Q[state])\n",
        "\n",
        "    for _ in range(num_episodes):\n",
        "        state, _ = env.reset()\n",
        "        action = epsilon_greedy(state)\n",
        "        done = False\n",
        "\n",
        "        while not done:\n",
        "            next_state, reward, terminated, truncated, _ = env.step(action)\n",
        "            next_action = epsilon_greedy(next_state)\n",
        "\n",
        "            # TD update\n",
        "            Q[state][action] = Q[state][action] + alpha * (\n",
        "                reward + gamma * Q[next_state][next_action] - Q[state][action]\n",
        "            )\n",
        "\n",
        "            state, action = next_state, next_action\n",
        "            done = terminated or truncated\n",
        "\n",
        "    # Derive final policy\n",
        "    policy = {}\n",
        "    for state in Q:\n",
        "        policy[state] = np.argmax(Q[state])\n",
        "\n",
        "    return policy, Q\n",
        "\n",
        "# ---------------------------\n",
        "# Run Example with FrozenLake\n",
        "# ---------------------------\n",
        "env = gym.make(\"FrozenLake-v1\", is_slippery=True)\n",
        "\n",
        "# Define a random policy for evaluation\n",
        "def random_policy(state):\n",
        "    return np.random.choice(env.action_space.n)\n",
        "\n",
        "# TD(0) Policy Evaluation\n",
        "V = td0_policy_evaluation(random_policy, env, num_episodes=10000)\n",
        "print(\"TD(0) Value Function (sample states):\")\n",
        "print({k: round(v, 3) for k, v in list(V.items())[:10]})\n",
        "\n",
        "# SARSA Control\n",
        "optimal_policy, Q = sarsa_control(env, num_episodes=50000, epsilon=0.1)\n",
        "print(\"\\nSARSA Learned Policy (sample states):\")\n",
        "for k, v in list(optimal_policy.items())[:10]:\n",
        "    print(f\"State: {k}, Best Action: {v}\")\n"
      ]
    }
  ]
}