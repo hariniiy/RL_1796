{
  "nbformat": 4,
  "nbformat_minor": 0,
  "metadata": {
    "colab": {
      "provenance": [],
      "include_colab_link": true
    },
    "kernelspec": {
      "name": "python3",
      "display_name": "Python 3"
    },
    "language_info": {
      "name": "python"
    }
  },
  "cells": [
    {
      "cell_type": "markdown",
      "metadata": {
        "id": "view-in-github",
        "colab_type": "text"
      },
      "source": [
        "<a href=\"https://colab.research.google.com/github/hariniiy/RL_1796/blob/main/Ass_1_2303A51796.ipynb\" target=\"_parent\"><img src=\"https://colab.research.google.com/assets/colab-badge.svg\" alt=\"Open In Colab\"/></a>"
      ]
    },
    {
      "cell_type": "code",
      "execution_count": null,
      "metadata": {
        "colab": {
          "base_uri": "https://localhost:8080/"
        },
        "id": "kA7uUYwzORgL",
        "outputId": "3646b38c-4df8-4599-96da-9201ad3e1482"
      },
      "outputs": [
        {
          "output_type": "stream",
          "name": "stdout",
          "text": [
            "Value Iteration Results\n",
            "Optimal Policy: [1 1 0]\n",
            "Value Function: [4.73683861 5.26315475 4.73683927]\n",
            "\n",
            "Policy Iteration Results\n",
            "Optimal Policy: [1 1 0]\n",
            "Value Function: [4.73683861 5.26315475 4.73683927]\n"
          ]
        }
      ],
      "source": [
        "import numpy as np\n",
        "\n",
        "class MDP:\n",
        "    def __init__(self, states, actions, transition_probs, rewards, gamma=0.9):\n",
        "        self.states = states\n",
        "        self.actions = actions\n",
        "        self.P = transition_probs  # transition probabilities P[s][a] = [(prob, next_state)]\n",
        "        self.R = rewards           # rewards R[s][a][s']\n",
        "        self.gamma = gamma\n",
        "\n",
        "def value_iteration(mdp, theta=1e-6, max_iterations=1000):\n",
        "    V = np.zeros(len(mdp.states))\n",
        "    for _ in range(max_iterations):\n",
        "        delta = 0\n",
        "        for s in mdp.states:\n",
        "            v = V[s]\n",
        "            V[s] = max(\n",
        "                sum(prob * (mdp.R[s][a][s_next] + mdp.gamma * V[s_next])\n",
        "                    for prob, s_next in mdp.P[s][a])\n",
        "                for a in mdp.actions\n",
        "            )\n",
        "            delta = max(delta, abs(v - V[s]))\n",
        "        if delta < theta:\n",
        "            break\n",
        "\n",
        "    # Derive policy from value function\n",
        "    policy = np.zeros(len(mdp.states), dtype=int)\n",
        "    for s in mdp.states:\n",
        "        q_values = []\n",
        "        for a in mdp.actions:\n",
        "            q_values.append(\n",
        "                sum(prob * (mdp.R[s][a][s_next] + mdp.gamma * V[s_next])\n",
        "                    for prob, s_next in mdp.P[s][a])\n",
        "            )\n",
        "        policy[s] = np.argmax(q_values)\n",
        "\n",
        "    return policy, V\n",
        "\n",
        "def policy_evaluation(policy, mdp, theta=1e-6, max_iterations=1000):\n",
        "    V = np.zeros(len(mdp.states))\n",
        "    for _ in range(max_iterations):\n",
        "        delta = 0\n",
        "        for s in mdp.states:\n",
        "            v = V[s]\n",
        "            a = policy[s]\n",
        "            V[s] = sum(prob * (mdp.R[s][a][s_next] + mdp.gamma * V[s_next])\n",
        "                       for prob, s_next in mdp.P[s][a])\n",
        "            delta = max(delta, abs(v - V[s]))\n",
        "        if delta < theta:\n",
        "            break\n",
        "    return V\n",
        "\n",
        "def policy_iteration(mdp, max_iterations=1000):\n",
        "    policy = np.random.choice(mdp.actions, size=len(mdp.states))\n",
        "    for _ in range(max_iterations):\n",
        "        V = policy_evaluation(policy, mdp)\n",
        "        policy_stable = True\n",
        "        for s in mdp.states:\n",
        "            old_action = policy[s]\n",
        "            q_values = []\n",
        "            for a in mdp.actions:\n",
        "                q_values.append(\n",
        "                    sum(prob * (mdp.R[s][a][s_next] + mdp.gamma * V[s_next])\n",
        "                        for prob, s_next in mdp.P[s][a])\n",
        "                )\n",
        "            best_action = np.argmax(q_values)\n",
        "            policy[s] = best_action\n",
        "            if old_action != best_action:\n",
        "                policy_stable = False\n",
        "        if policy_stable:\n",
        "            break\n",
        "    return policy, V\n",
        "\n",
        "# Example MDP\n",
        "states = [0, 1, 2]\n",
        "actions = [0, 1]  # 0 = left, 1 = right\n",
        "\n",
        "# Transition probabilities and rewards\n",
        "P = {\n",
        "    0: {\n",
        "        0: [(1.0, 0)],  # stay in 0\n",
        "        1: [(1.0, 1)]   # move to 1\n",
        "    },\n",
        "    1: {\n",
        "        0: [(1.0, 0)],\n",
        "        1: [(1.0, 2)]\n",
        "    },\n",
        "    2: {\n",
        "        0: [(1.0, 1)],\n",
        "        1: [(1.0, 2)]\n",
        "    }\n",
        "}\n",
        "\n",
        "R = {\n",
        "    0: {0: {0: 0}, 1: {1: 0}},\n",
        "    1: {0: {0: 0}, 1: {2: 1}},  # reward for reaching state 2\n",
        "    2: {0: {1: 0}, 1: {2: 0}}\n",
        "}\n",
        "\n",
        "mdp = MDP(states, actions, P, R, gamma=0.9)\n",
        "\n",
        "# Run Value Iteration\n",
        "policy_vi, V_vi = value_iteration(mdp)\n",
        "print(\"Value Iteration Results\")\n",
        "print(\"Optimal Policy:\", policy_vi)\n",
        "print(\"Value Function:\", V_vi)\n",
        "\n",
        "# Run Policy Iteration\n",
        "policy_pi, V_pi = policy_iteration(mdp)\n",
        "print(\"\\nPolicy Iteration Results\")\n",
        "print(\"Optimal Policy:\", policy_pi)\n",
        "print(\"Value Function:\", V_pi)\n"
      ]
    }
  ]
}