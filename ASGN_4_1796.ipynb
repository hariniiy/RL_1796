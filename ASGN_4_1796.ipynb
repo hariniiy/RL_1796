{
  "nbformat": 4,
  "nbformat_minor": 0,
  "metadata": {
    "colab": {
      "provenance": [],
      "include_colab_link": true
    },
    "kernelspec": {
      "name": "python3",
      "display_name": "Python 3"
    },
    "language_info": {
      "name": "python"
    }
  },
  "cells": [
    {
      "cell_type": "markdown",
      "metadata": {
        "id": "view-in-github",
        "colab_type": "text"
      },
      "source": [
        "<a href=\"https://colab.research.google.com/github/hariniiy/RL_1796/blob/main/ASGN_4_1796.ipynb\" target=\"_parent\"><img src=\"https://colab.research.google.com/assets/colab-badge.svg\" alt=\"Open In Colab\"/></a>"
      ]
    },
    {
      "cell_type": "code",
      "execution_count": null,
      "metadata": {
        "id": "2Wht5Lo5Tykb"
      },
      "outputs": [],
      "source": [
        "import gymnasium as gym\n",
        "import numpy as np\n",
        "from collections import defaultdict\n",
        "\n",
        "# ---------------------------\n",
        "# Q-Learning\n",
        "# ---------------------------\n",
        "def q_learning(env, num_episodes=50000, alpha=0.1, gamma=0.99, epsilon=0.1):\n",
        "    \"\"\"\n",
        "    Q-Learning algorithm for discrete action space environments.\n",
        "    \"\"\"\n",
        "    Q = defaultdict(lambda: np.zeros(env.action_space.n))\n",
        "\n",
        "    def epsilon_greedy(state):\n",
        "        if np.random.rand() < epsilon:\n",
        "            return np.random.choice(env.action_space.n)\n",
        "        else:\n",
        "            return np.argmax(Q[state])\n",
        "\n",
        "    for _ in range(num_episodes):\n",
        "        state, _ = env.reset()\n",
        "        done = False\n",
        "\n",
        "        while not done:\n",
        "            action = epsilon_greedy(state)\n",
        "            next_state, reward, terminated, truncated, _ = env.step(action)\n",
        "\n",
        "            # Q-learning update (off-policy)\n",
        "            Q[state][action] = Q[state][action] + alpha * (\n",
        "                reward + gamma * np.max(Q[next_state]) - Q[state][action]\n",
        "            )\n",
        "\n",
        "            state = next_state\n",
        "            done = terminated or truncated\n",
        "\n",
        "    # Derive final greedy policy\n",
        "    policy = {}\n",
        "    for state in Q:\n",
        "        policy[state] = np.argmax(Q[state])\n",
        "\n",
        "    return policy, Q\n",
        "\n",
        "# ---------------------------\n",
        "# Run Example with FrozenLake\n",
        "# ---------------------------\n",
        "env = gym.make(\"FrozenLake-v1\", is_slippery=True)\n",
        "\n",
        "# Train with Q-learning\n",
        "optimal_policy, Q = q_learning(env, num_episodes=100000, alpha=0.1, gamma=0.99, epsilon=0.1)\n",
        "\n",
        "print(\"Q-Learning Optimal Policy (sample states):\")\n",
        "for k, v in list(optimal_policy.items())[:10]:\n",
        "    print(f\"State: {k}, Best Action: {v}\")\n",
        "\n",
        "# Optional: Evaluate learned policy\n",
        "def evaluate_policy(policy, env, num_episodes=1000):\n",
        "    total_rewards = 0\n",
        "    for _ in range(num_episodes):\n",
        "        state, _ = env.reset()\n",
        "        done = False\n",
        "        while not done:\n",
        "            action = policy.get(state, np.random.choice(env.action_space.n))\n",
        "            state, reward, terminated, truncated, _ = env.step(action)\n",
        "            total_rewards += reward\n",
        "            done = terminated or truncated\n",
        "    return total_rewards / num_episodes\n",
        "\n",
        "avg_reward = evaluate_policy(optimal_policy, env)\n",
        "print(\"\\nAverage Reward over 1000 episodes:\", avg_reward)\n"
      ]
    }
  ]
}